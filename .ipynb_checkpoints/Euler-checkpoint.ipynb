{
 "metadata": {
  "name": ""
 },
 "nbformat": 3,
 "nbformat_minor": 0,
 "worksheets": [
  {
   "cells": [
    {
     "cell_type": "code",
     "collapsed": false,
     "input": [
      "# http://projecteuler.net/problem=1\n",
      "\"\"\"\n",
      "If we list all the natural numbers below 10 that are multiples of 3 or 5, we get 3, 5, 6 and 9. The sum of these multiples is 23.\n",
      "Find the sum of all the multiples of 3 or 5 below 1000.\n",
      "\"\"\"\n",
      "nums = [x for x in range(1, 1001) if x % 3 == 0 or x % 5 == 0]\n",
      "print(sum(nums))"
     ],
     "language": "python",
     "metadata": {},
     "outputs": [
      {
       "output_type": "stream",
       "stream": "stdout",
       "text": [
        "234168\n"
       ]
      }
     ],
     "prompt_number": 4
    },
    {
     "cell_type": "code",
     "collapsed": false,
     "input": [
      "# http://projecteuler.net/problem=2\n",
      "\"\"\"\n",
      "By considering the terms in the Fibonacci sequence whose values do not exceed four million, find the sum of the even-valued terms.\n",
      "\"\"\"\n",
      "\n",
      "def fib(max_):\n",
      "    a, b = 0, 1\n",
      "    while a < max_:\n",
      "        yield a\n",
      "        a, b = b, a + b\n",
      "\n",
      "fibs = [x for x in fib(4000001) if x % 2 == 0]\n",
      "print(sum(fibs))"
     ],
     "language": "python",
     "metadata": {},
     "outputs": [
      {
       "output_type": "stream",
       "stream": "stdout",
       "text": [
        "4613732\n"
       ]
      }
     ],
     "prompt_number": 8
    },
    {
     "cell_type": "code",
     "collapsed": false,
     "input": [
      "# http://projecteuler.net/problem=4\n",
      "\"\"\"\n",
      "Find the largest palindrome made from the product of two 3-digit numbers.\n",
      "\"\"\"\n",
      "\n",
      "def is_pal(n):\n",
      "\tl = list(str(n))\n",
      "\tfor i in xrange(len(l)):\n",
      "\t\tif l[i] != l[-1 - i]:\n",
      "\t\t\treturn False\n",
      "\treturn True\n",
      "\n",
      "seeds = (999, 999)\n",
      "break_ = False\n",
      "for x in xrange(seeds[0], 1, -1):\n",
      "\tfor y in xrange(seeds[1], 1, -1):\n",
      "\t\tm = x * y\n",
      "\t\tif is_pal(m):\n",
      "\t\t\tprint(\"{} x {} = {}\".format(x, y, m))\n",
      "\t\t\tbreak_ = True\n",
      "\t\t\tbreak\n",
      "\tif break_:\n",
      "\t\tbreak"
     ],
     "language": "python",
     "metadata": {},
     "outputs": [
      {
       "output_type": "stream",
       "stream": "stdout",
       "text": [
        "999 x 91 = 90909\n"
       ]
      }
     ],
     "prompt_number": 2
    },
    {
     "cell_type": "code",
     "collapsed": false,
     "input": [
      "# http://projecteuler.net/problem=5\n",
      "\"\"\"\n",
      "2520 is the smallest number that can be divided by each of the numbers from 1 to 10 without any remainder.\n",
      "What is the smallest positive number that is evenly divisible by all of the numbers from 1 to 20?\n",
      "\"\"\"\n",
      "n = 2520\n",
      "while not all([(n % i == 0) for i in xrange(1, 21)]):\n",
      "\tn += 2520\n",
      "print(n)"
     ],
     "language": "python",
     "metadata": {},
     "outputs": [
      {
       "output_type": "stream",
       "stream": "stdout",
       "text": [
        "232792560\n"
       ]
      }
     ],
     "prompt_number": 3
    },
    {
     "cell_type": "code",
     "collapsed": false,
     "input": [
      "# http://projecteuler.net/problem=8\n",
      "\"\"\"\n",
      "Find the greatest product of five consecutive digits in the 1000-digit number.\n",
      "\"\"\"\n",
      "\n",
      "from operator import mul\n",
      "\n",
      "s = \"\"\"\n",
      "73167176531330624919225119674426574742355349194934\n",
      "96983520312774506326239578318016984801869478851843\n",
      "85861560789112949495459501737958331952853208805511\n",
      "12540698747158523863050715693290963295227443043557\n",
      "66896648950445244523161731856403098711121722383113\n",
      "62229893423380308135336276614282806444486645238749\n",
      "30358907296290491560440772390713810515859307960866\n",
      "70172427121883998797908792274921901699720888093776\n",
      "65727333001053367881220235421809751254540594752243\n",
      "52584907711670556013604839586446706324415722155397\n",
      "53697817977846174064955149290862569321978468622482\n",
      "83972241375657056057490261407972968652414535100474\n",
      "82166370484403199890008895243450658541227588666881\n",
      "16427171479924442928230863465674813919123162824586\n",
      "17866458359124566529476545682848912883142607690042\n",
      "24219022671055626321111109370544217506941658960408\n",
      "07198403850962455444362981230987879927244284909188\n",
      "84580156166097919133875499200524063689912560717606\n",
      "05886116467109405077541002256983155200055935729725\n",
      "71636269561882670428252483600823257530420752963450\n",
      "\"\"\"\n",
      "\n",
      "s = s.replace(\"\\n\", \"\")\n",
      "l = [a for a in s if a]\n",
      "max_prod = 0\n",
      "for i in xrange(len(l) - 4):\n",
      "\tnums = [int(l[i + n]) for n in xrange(5)]\n",
      "\tmax_prod = max(max_prod, reduce(mul, nums))\n",
      "print(max_prod)"
     ],
     "language": "python",
     "metadata": {},
     "outputs": [
      {
       "output_type": "stream",
       "stream": "stdout",
       "text": [
        "40824\n"
       ]
      }
     ],
     "prompt_number": 4
    },
    {
     "cell_type": "code",
     "collapsed": false,
     "input": [
      "# http://projecteuler.net/problem=11\n",
      "\n",
      "from operator import mul\n",
      "\n",
      "\n",
      "class Matrix(object):\n",
      "    def __init__(self, matrix_str):\n",
      "        self.lists = []\n",
      "        for line in matrix_str.splitlines():\n",
      "            l = [int(s) for s in line.split(\" \") if s]\n",
      "            if len(l) == 0:\n",
      "                continue\n",
      "            if len(self.lists) > 0 and len(l) != len(self.lists[0]):\n",
      "                raise Exception(\n",
      "                    \"Invalid line element count:\\n \" +\n",
      "                    \"({}) {}\".format(len(self.lists[0]), self.lists[0]) +\n",
      "                    \"({}) {}\".format(len(l), l))\n",
      "            self.lists.append(l)\n",
      "\n",
      "    def max_x(self):\n",
      "        return len(self.lists[0]) - 1\n",
      "\n",
      "    def max_y(self):\n",
      "        return len(self.lists) - 1\n",
      "\n",
      "    def element(self, x, y):\n",
      "        return self.lists[y][x]\n",
      "\n",
      "    def product_down(self, x, y, count):\n",
      "        nums = [self.lists[y + i][x] for i in range(count)]\n",
      "        return reduce(mul, nums, 1)\n",
      "\n",
      "    def product_right(self, x, y, count):\n",
      "        nums = [self.lists[y][x + i] for i in range(count)]\n",
      "        return reduce(mul, nums, 1)\n",
      "\n",
      "    def product_diag_down_r(self, x, y, count):\n",
      "        if x <= self.max_x() - count + 1 and y <= self.max_y() - count + 1:\n",
      "            nums = [self.lists[y + i][x + i] for i in range(count)]\n",
      "            return reduce(mul, nums, 1)\n",
      "        return False\n",
      "\n",
      "    def product_diag_down_l(self, x, y, count):\n",
      "        if x >= count - 1 and y < self.max_y() - count + 1:\n",
      "            nums = [self.lists[y + i][x - i] for i in range(count)]\n",
      "            return reduce(mul, nums, 1)\n",
      "        return False\n",
      "\n",
      "    def products(self, x, y, count):\n",
      "        prods = [\n",
      "            self.product_down(x, y, count),\n",
      "            self.product_right(x, y, count),\n",
      "            self.product_diag_down_r(x, y, count),\n",
      "            self.product_diag_down_l(x, y, count)\n",
      "        ]\n",
      "        print([p for p in prods if p])\n",
      "        return [p for p in prods if p]\n",
      "\n",
      "s = \"\"\"\n",
      "08 02 22 97 38 15 00 40 00 75 04 05 07 78 52 12 50 77 91 08\n",
      "49 49 99 40 17 81 18 57 60 87 17 40 98 43 69 48 04 56 62 00\n",
      "81 49 31 73 55 79 14 29 93 71 40 67 53 88 30 03 49 13 36 65\n",
      "52 70 95 23 04 60 11 42 69 24 68 56 01 32 56 71 37 02 36 91\n",
      "22 31 16 71 51 67 63 89 41 92 36 54 22 40 40 28 66 33 13 80\n",
      "24 47 32 60 99 03 45 02 44 75 33 53 78 36 84 20 35 17 12 50\n",
      "32 98 81 28 64 23 67 10 26 38 40 67 59 54 70 66 18 38 64 70\n",
      "67 26 20 68 02 62 12 20 95 63 94 39 63 08 40 91 66 49 94 21\n",
      "24 55 58 05 66 73 99 26 97 17 78 78 96 83 14 88 34 89 63 72\n",
      "21 36 23 09 75 00 76 44 20 45 35 14 00 61 33 97 34 31 33 95\n",
      "78 17 53 28 22 75 31 67 15 94 03 80 04 62 16 14 09 53 56 92\n",
      "16 39 05 42 96 35 31 47 55 58 88 24 00 17 54 24 36 29 85 57\n",
      "86 56 00 48 35 71 89 07 05 44 44 37 44 60 21 58 51 54 17 58\n",
      "19 80 81 68 05 94 47 69 28 73 92 13 86 52 17 77 04 89 55 40\n",
      "04 52 08 83 97 35 99 16 07 97 57 32 16 26 26 79 33 27 98 66\n",
      "88 36 68 87 57 62 20 72 03 46 33 67 46 55 12 32 63 93 53 69\n",
      "04 42 16 73 38 25 39 11 24 94 72 18 08 46 29 32 40 62 76 36\n",
      "20 69 36 41 72 30 23 88 34 62 99 69 82 67 59 85 74 04 36 16\n",
      "20 73 35 29 78 31 90 01 74 31 49 71 48 86 81 16 23 57 05 54\n",
      "01 70 54 71 83 51 54 69 16 92 33 48 61 43 52 01 89 19 67 48\n",
      "\"\"\"\n",
      "\n",
      "m = Matrix(s)\n",
      "list_size = 4\n",
      "max_product = 0\n",
      "print(m.max_x())\n",
      "for x in xrange(m.max_x() - list_size + 2):\n",
      "    for y in xrange(m.max_y() - list_size + 2):\n",
      "        print(\"({}, {})\".format(x, y))\n",
      "        products = m.products(x, y, list_size)\n",
      "        if len(products) > 0:\n",
      "            max_product = max(max_product, max(products))\n",
      "print(max_product)\n"
     ],
     "language": "python",
     "metadata": {},
     "outputs": []
    }
   ],
   "metadata": {}
  }
 ]
}