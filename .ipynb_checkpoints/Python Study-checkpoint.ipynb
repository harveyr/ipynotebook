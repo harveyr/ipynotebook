{
 "metadata": {
  "name": ""
 },
 "nbformat": 3,
 "nbformat_minor": 0,
 "worksheets": [
  {
   "cells": [
    {
     "cell_type": "code",
     "collapsed": false,
     "input": [
      "# Comprehensions\n",
      "\n",
      "print(\"List\")\n",
      "a = [x * 2 for x in range(10)]\n",
      "print(a)\n",
      "print(\"\")\n",
      "\n",
      "print(\"Dictionary\")\n",
      "a = {x: x * 2 for x in range(10)}\n",
      "print(a)\n",
      "print(\"\")\n"
     ],
     "language": "python",
     "metadata": {},
     "outputs": [
      {
       "output_type": "stream",
       "stream": "stdout",
       "text": [
        "List\n",
        "[0, 2, 4, 6, 8, 10, 12, 14, 16, 18]\n",
        "\n",
        "Dictionary\n",
        "{0: 0, 1: 2, 2: 4, 3: 6, 4: 8, 5: 10, 6: 12, 7: 14, 8: 16, 9: 18}\n",
        "\n"
       ]
      }
     ],
     "prompt_number": 8
    },
    {
     "cell_type": "code",
     "collapsed": false,
     "input": [
      "# Slicing\n",
      "\n",
      "a = range(10)\n",
      "print(a[::3])\n",
      "print(a[2::3])"
     ],
     "language": "python",
     "metadata": {},
     "outputs": [
      {
       "output_type": "stream",
       "stream": "stdout",
       "text": [
        "[0, 3, 6, 9]\n",
        "[2, 5, 8]\n"
       ]
      }
     ],
     "prompt_number": 6
    },
    {
     "cell_type": "code",
     "collapsed": false,
     "input": [
      "# enumerate()\n",
      "\n",
      "l = range(100, 110)\n",
      "e = enumerate(l)\n",
      "print(e)\n",
      "for i in e:\n",
      "    print(i)"
     ],
     "language": "python",
     "metadata": {},
     "outputs": [
      {
       "output_type": "stream",
       "stream": "stdout",
       "text": [
        "<enumerate object at 0x103cacaa0>\n",
        "(0, 100)\n",
        "(1, 101)\n",
        "(2, 102)\n",
        "(3, 103)\n",
        "(4, 104)\n",
        "(5, 105)\n",
        "(6, 106)\n",
        "(7, 107)\n",
        "(8, 108)\n",
        "(9, 109)\n"
       ]
      }
     ],
     "prompt_number": 16
    },
    {
     "cell_type": "code",
     "collapsed": false,
     "input": [
      "# Fibonacci generator\n",
      "\n",
      "def fib(count):\n",
      "    i, a, b = 0, 0, 1\n",
      "    while i < count:\n",
      "        yield a\n",
      "        a, b = b, a + b\n",
      "        i += 1\n",
      "\n",
      "for x in fib(10):\n",
      "    print(x)"
     ],
     "language": "python",
     "metadata": {},
     "outputs": [
      {
       "output_type": "stream",
       "stream": "stdout",
       "text": [
        "0\n",
        "1\n",
        "1\n",
        "2\n",
        "3\n",
        "5\n",
        "8\n",
        "13\n",
        "21\n",
        "34\n"
       ]
      }
     ],
     "prompt_number": 29
    },
    {
     "cell_type": "code",
     "collapsed": false,
     "input": [
      "# Simple decorator example\n",
      "\n",
      "def snoopy(f):\n",
      "    def inner_f(*args, **kwargs):\n",
      "        f(*args)\n",
      "        print(\"\\targs: {} | kwargs: {}\\n\".format(args, kwargs))\n",
      "    return inner_f\n",
      "\n",
      "\n",
      "@snoopy\n",
      "def big_win(number, enthusiasm=True):\n",
      "    if not enthusiasm:\n",
      "        print(\"{}. I won again.\".format(number))\n",
      "    else:\n",
      "        print(\"{}?! I win! I winnnnnnn!!!!!!\".format(number))\n",
      "\n",
      "# kwargs will be empty if the default value is used\n",
      "big_win(1)\n",
      "\n",
      "# both args and kwargs will contain values\n",
      "big_win(5, True)\n",
      "big_win(10, False)\n"
     ],
     "language": "python",
     "metadata": {},
     "outputs": [
      {
       "output_type": "stream",
       "stream": "stdout",
       "text": [
        "1?! I win! I winnnnnnn!!!!!!\n",
        "\targs: (1,) | kwargs: {}\n",
        "\n",
        "5?! I win! I winnnnnnn!!!!!!\n",
        "\targs: (5, True) | kwargs: {}\n",
        "\n",
        "10. I won again.\n",
        "\targs: (10, False) | kwargs: {}\n",
        "\n"
       ]
      }
     ],
     "prompt_number": 4
    },
    {
     "cell_type": "code",
     "collapsed": false,
     "input": [],
     "language": "python",
     "metadata": {},
     "outputs": []
    }
   ],
   "metadata": {}
  }
 ]
}